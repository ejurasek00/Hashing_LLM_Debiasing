{
 "cells": [
  {
   "cell_type": "code",
   "execution_count": 1,
   "metadata": {},
   "outputs": [],
   "source": [
    "from scipy.stats import chi2_contingency, fisher_exact\n",
    "from sklearn.utils import resample\n",
    "import numpy as np"
   ]
  },
  {
   "cell_type": "code",
   "execution_count": null,
   "metadata": {},
   "outputs": [],
   "source": [
    "#DATA\n",
    "# Experiment 1\n",
    "# [Not hashed Right Wrong], [Hashed Right Wrong]\n",
    "ex1_orig_hashedWO = np.array([[0,80], [14,26]])\n",
    "ex1_orig_hashedW = np.array([[0,80], [13,27]])\n",
    "\n",
    "# Experiment 2\n",
    "ex2_correct_wrong_GPT = np.array([[213,22], [212,23]])\n",
    "ex2_correct_hashed_GPT = np.array([[213,22], [225,10]])\n",
    "ex2_wrong_hashed_GPT = np.array([[212,23], [225,10]])\n",
    "ex2_correct_wrong_Llama = np.array([[194,41], [201,34]])\n",
    "ex2_correct_hashed_Llama = np.array([[194,41], [230,5]])\n",
    "ex2_wrong_hashed_Llama = np.array([[201,34], [230,5]])\n",
    "\n",
    "# Experiment 3\n",
    "ex3_orig_hashedWO = np.array([[11,39], [32,18]])\n",
    "ex3_orig_hashedW = np.array([[11,39], [14,36]])\n",
    "\n",
    "# Experiment 4\n",
    "ex4_1_orig_COT_GPT = np.array([[0,20], [6,4]])\n",
    "ex4_1_hashed_COT_GPT = np.array([[10,0], [6,4]])\n",
    "ex4_1_orig_COT_Gemini = np.array([[0,20], [10,0]])\n",
    "ex4_1_hashed_COT_Gemini = np.array([[10,0], [10,0]])\n",
    "\n",
    "ex4_2_cor_GPT = np.array([[213,22], [220,15]])\n",
    "ex4_2_wro_GPT = np.array([[212,23], [217,18]])\n",
    "ex4_2_cor_Gemini = np.array([[194,41], [143,92]])\n",
    "ex4_2_wro_Gemini = np.array([[201,34], [189,46]])\n",
    "ex4_2_cor_h_GPT = np.array([[225,10], [220,15]])\n",
    "ex4_2_wro_h_GPT = np.array([[225,10], [217,18]])\n",
    "ex4_2_cor_h_Gemini = np.array([[230,5], [143,92]])\n",
    "ex4_2_wro_h_Gemini = np.array([[230,5], [189,46]])\n",
    "\n",
    "ex4_3_orig_COT_GPT = np.array([[3,7], [4,6]])\n",
    "ex4_3_hashed_COT_GPT = np.array([[3,7], [7,3]])\n",
    "ex4_3_orig_COT_Gemini = np.array([[0,10], [10,0]])\n",
    "ex4_3_hashed_COT_Gemini = np.array([[0,10], [10,0]])\n"
   ]
  },
  {
   "cell_type": "code",
   "execution_count": null,
   "metadata": {},
   "outputs": [
    {
     "name": "stdout",
     "output_type": "stream",
     "text": [
      "0.0\n",
      "3.466754777556985e-08\n"
     ]
    }
   ],
   "source": [
    "#Fisher's exact test\n",
    "fisher, p = fisher_exact(ex1_orig_hashedWO)\n",
    "print(fisher)\n",
    "print(p)"
   ]
  },
  {
   "cell_type": "code",
   "execution_count": null,
   "metadata": {},
   "outputs": [],
   "source": [
    "#Chi-square and Crmér's V calculation and interpretation\n",
    "def calculate_statisctics(obs):\n",
    "    chi2, p, dof, expected = chi2_contingency(obs)\n",
    "    print(f\"The chi2 value is: {chi2}\")\n",
    "    print(f\"The p value is: {p}\")\n",
    "    chi2_interpretation = (\n",
    "        \"Is significant on 0.05\" if p < 0.05 else\n",
    "        \"is not significant on 0.05\"\n",
    "    )\n",
    "    print(f\"Chi2: {chi2_interpretation}\")\n",
    "    n = obs.sum().sum()  # total number of observations\n",
    "    k = min(obs.shape) - 1  # smaller of (rows - 1) or (columns - 1)\n",
    "    cramers_v = np.sqrt(chi2 / (n * k))\n",
    "    print(f\"Cramér's V (Effect Size): {cramers_v}\")\n",
    "    \n",
    "    # Interpret effect size (Cramér's V)\n",
    "    effect_size_interpretation = (\n",
    "    \"Weak association\" if cramers_v <= 0.1 else\n",
    "    \"Moderate association\" if cramers_v <= 0.3 else\n",
    "    \"Strong association\"\n",
    "    )\n",
    "    print(f\"Effect Size: {effect_size_interpretation}\")"
   ]
  },
  {
   "cell_type": "code",
   "execution_count": null,
   "metadata": {},
   "outputs": [
    {
     "name": "stdout",
     "output_type": "stream",
     "text": [
      "The chi2 value is: 16.2\n",
      "The p value is: 5.699411623331848e-05\n",
      "Chi2: Is significant on 0.05\n",
      "Cramér's V (Effect Size): 0.9\n",
      "Effect Size: Strong association\n"
     ]
    }
   ],
   "source": [
    "calculate_statisctics(ex4_3_hashed_COT_Gemini)# insetr the data for calculation"
   ]
  }
 ],
 "metadata": {
  "kernelspec": {
   "display_name": "base",
   "language": "python",
   "name": "python3"
  },
  "language_info": {
   "codemirror_mode": {
    "name": "ipython",
    "version": 3
   },
   "file_extension": ".py",
   "mimetype": "text/x-python",
   "name": "python",
   "nbconvert_exporter": "python",
   "pygments_lexer": "ipython3",
   "version": "3.12.4"
  }
 },
 "nbformat": 4,
 "nbformat_minor": 2
}
