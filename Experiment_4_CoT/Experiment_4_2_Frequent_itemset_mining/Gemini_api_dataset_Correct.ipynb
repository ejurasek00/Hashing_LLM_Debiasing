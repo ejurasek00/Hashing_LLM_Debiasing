{
 "cells": [
  {
   "cell_type": "code",
   "execution_count": null,
   "id": "d056f69b-027b-4350-a3b5-cc6530d1789f",
   "metadata": {},
   "outputs": [],
   "source": [
    "from google import genai\n",
    "client = genai.Client(api_key=\"YOUR API KEY HERE\") \n",
    "\n",
    "for i in range(5):  \n",
    "    for maxlen in range(1, 6):\n",
    "        response = client.models.generate_content(\n",
    "            model=\"gemini-2.0-flash\", \n",
    "            contents=f\"\"\"Find all frequent itemsets with minimal support equal to 2 and length {maxlen}, so set_length{maxlen}= {{<<itemsets>>}}. Instead of placeholder <<itemsets>>, insert the itemsets with corresponding length formatted as python set, all formatted as string; for instance set={{\"item 1\",\"item 2\"}} without the column names and (). Consider the first row of the CSV as the name of the columns.\n",
    "\n",
    "name,legs count,diet,blood,body hair,eggs,breastfeeding\n",
    "rabbit,4,herbivore,hot,yes,false,indeed\n",
    "human,2,omnivore,hot,yes,false,indeed\n",
    "fox,4,omnivore,hot,yes,false,indeed\n",
    "platypus,4,carnivore,hot,yes,true,indeed\n",
    "\n",
    "IMPORTANT:\n",
    "\n",
    "You are not allowed to use programming languages to solve this task!\"\"\"\n",
    "        )\n",
    "        print(response.text)\n"
   ]
  }
 ],
 "metadata": {
  "kernelspec": {
   "display_name": "Python 3 (ipykernel)",
   "language": "python",
   "name": "python3"
  },
  "language_info": {
   "codemirror_mode": {
    "name": "ipython",
    "version": 3
   },
   "file_extension": ".py",
   "mimetype": "text/x-python",
   "name": "python",
   "nbconvert_exporter": "python",
   "pygments_lexer": "ipython3",
   "version": "3.9.21"
  }
 },
 "nbformat": 4,
 "nbformat_minor": 5
}
